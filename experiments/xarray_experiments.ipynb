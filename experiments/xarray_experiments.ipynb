{
 "cells": [
  {
   "cell_type": "code",
   "execution_count": null,
   "id": "de4ef704",
   "metadata": {},
   "outputs": [],
   "source": [
    "from dicom_parser import Series"
   ]
  },
  {
   "cell_type": "code",
   "execution_count": 7,
   "id": "c07d3186",
   "metadata": {},
   "outputs": [
    {
     "data": {
      "text/plain": [
       "<dicom_parser.series.Series at 0x109be7e80>"
      ]
     },
     "execution_count": 7,
     "metadata": {},
     "output_type": "execute_result"
    }
   ],
   "source": [
    "anat_series = Series('testing/insular-dicoms/DICOM_1/Anatomy')\n",
    "anat_series"
   ]
  },
  {
   "cell_type": "markdown",
   "id": "26c3b318",
   "metadata": {},
   "source": [
    "How many images?"
   ]
  },
  {
   "cell_type": "code",
   "execution_count": 3,
   "id": "e6d44832",
   "metadata": {},
   "outputs": [
    {
     "data": {
      "text/plain": [
       "384"
      ]
     },
     "execution_count": 3,
     "metadata": {},
     "output_type": "execute_result"
    }
   ],
   "source": [
    "len(anat_series)"
   ]
  },
  {
   "cell_type": "code",
   "execution_count": 4,
   "id": "f9d19bcf",
   "metadata": {},
   "outputs": [
    {
     "data": {
      "text/plain": [
       "(256, 256, 384)"
      ]
     },
     "execution_count": 4,
     "metadata": {},
     "output_type": "execute_result"
    }
   ],
   "source": [
    "anat_series.data.shape"
   ]
  },
  {
   "cell_type": "code",
   "execution_count": 5,
   "id": "e654f550",
   "metadata": {},
   "outputs": [],
   "source": [
    "import nibabel as nib"
   ]
  },
  {
   "cell_type": "code",
   "execution_count": 6,
   "id": "a64f959e",
   "metadata": {},
   "outputs": [
    {
     "data": {
      "text/plain": [
       "<dicom_parser.image.Image at 0x10ecb9e80>"
      ]
     },
     "execution_count": 6,
     "metadata": {},
     "output_type": "execute_result"
    }
   ],
   "source": [
    "slice1 = anat_series[0]\n",
    "slice1"
   ]
  },
  {
   "cell_type": "code",
   "execution_count": 8,
   "id": "78717062",
   "metadata": {},
   "outputs": [
    {
     "ename": "AttributeError",
     "evalue": "'Image' object has no attribute 'affine'",
     "output_type": "error",
     "traceback": [
      "\u001b[0;31m---------------------------------------------------------------------------\u001b[0m",
      "\u001b[0;31mAttributeError\u001b[0m                            Traceback (most recent call last)",
      "\u001b[0;32m<ipython-input-8-ac7aad8aa461>\u001b[0m in \u001b[0;36m<module>\u001b[0;34m\u001b[0m\n\u001b[0;32m----> 1\u001b[0;31m \u001b[0mslice1\u001b[0m\u001b[0;34m.\u001b[0m\u001b[0maffine\u001b[0m\u001b[0;34m\u001b[0m\u001b[0;34m\u001b[0m\u001b[0m\n\u001b[0m",
      "\u001b[0;31mAttributeError\u001b[0m: 'Image' object has no attribute 'affine'"
     ]
    }
   ],
   "source": [
    "slice1.affine"
   ]
  },
  {
   "cell_type": "code",
   "execution_count": null,
   "id": "f15e6139",
   "metadata": {},
   "outputs": [],
   "source": []
  }
 ],
 "metadata": {
  "kernelspec": {
   "display_name": "Python 3",
   "language": "python",
   "name": "python3"
  },
  "language_info": {
   "codemirror_mode": {
    "name": "ipython",
    "version": 3
   },
   "file_extension": ".py",
   "mimetype": "text/x-python",
   "name": "python",
   "nbconvert_exporter": "python",
   "pygments_lexer": "ipython3",
   "version": "3.8.12"
  }
 },
 "nbformat": 4,
 "nbformat_minor": 5
}
