{
 "cells": [
  {
   "cell_type": "markdown",
   "id": "21ea1b44-2c7f-4af0-b370-484ad9a3d9f1",
   "metadata": {},
   "source": [
    "## Requirements\n",
    "\n",
    "Optionally execute the next cell to ensure you have the packages necessary to run this notebook, and also to run `git submodule update --init` to get the data we'll refer to, in case you have not already done that."
   ]
  },
  {
   "cell_type": "code",
   "execution_count": null,
   "id": "731e38f4-8ad9-4d47-9aae-55fe4b554485",
   "metadata": {},
   "outputs": [],
   "source": [
    "%pip -q install dicom_parser matplotlib ipywidgets xarray zarr\n",
    "!git submodule update --init"
   ]
  },
  {
   "cell_type": "markdown",
   "id": "2ef4f628-25af-4b93-aa07-f09295096b76",
   "metadata": {},
   "source": [
    "# Anatomical scan"
   ]
  },
  {
   "cell_type": "code",
   "execution_count": null,
   "id": "de4ef704",
   "metadata": {},
   "outputs": [],
   "source": [
    "from dicom_parser import Series"
   ]
  },
  {
   "cell_type": "code",
   "execution_count": null,
   "id": "c07d3186",
   "metadata": {},
   "outputs": [],
   "source": [
    "anat_series = Series('../testing/insular-dicoms/DICOM_1/Anatomy')\n",
    "anat_series"
   ]
  },
  {
   "cell_type": "markdown",
   "id": "26c3b318",
   "metadata": {},
   "source": [
    "How many images?"
   ]
  },
  {
   "cell_type": "code",
   "execution_count": null,
   "id": "e6d44832",
   "metadata": {},
   "outputs": [],
   "source": [
    "len(anat_series)"
   ]
  },
  {
   "cell_type": "code",
   "execution_count": null,
   "id": "f9d19bcf",
   "metadata": {},
   "outputs": [],
   "source": [
    "anat_series.data.shape"
   ]
  },
  {
   "cell_type": "code",
   "execution_count": null,
   "id": "e654f550",
   "metadata": {},
   "outputs": [],
   "source": [
    "import nibabel as nib"
   ]
  },
  {
   "cell_type": "code",
   "execution_count": null,
   "id": "a64f959e",
   "metadata": {},
   "outputs": [],
   "source": [
    "slice1 = anat_series[0]\n",
    "slice1"
   ]
  },
  {
   "cell_type": "code",
   "execution_count": null,
   "id": "78717062",
   "metadata": {},
   "outputs": [],
   "source": [
    "slice1.affine"
   ]
  },
  {
   "cell_type": "code",
   "execution_count": null,
   "id": "d9aca7d2-77ed-4717-a50c-e668a48d4841",
   "metadata": {},
   "outputs": [],
   "source": [
    "import matplotlib.pyplot as plt\n",
    "\n",
    "plt.imshow(slice1.data, cmap=\"gray\", origin=\"lower\")"
   ]
  },
  {
   "cell_type": "markdown",
   "id": "a8d0d1ca-6334-4ff0-a520-09c074452ad6",
   "metadata": {},
   "source": [
    "Let's take a look at the data"
   ]
  },
  {
   "cell_type": "code",
   "execution_count": null,
   "id": "f9884a4c-9def-4d5b-8387-836bf5f57e53",
   "metadata": {},
   "outputs": [],
   "source": [
    "from ipywidgets import interact\n",
    "\n",
    "@interact(i=(0,len(anat_series)-1))\n",
    "def show_slice(i):\n",
    "    return plt.imshow(anat_series[i].data, cmap=\"gray\")"
   ]
  },
  {
   "cell_type": "code",
   "execution_count": null,
   "id": "58d56ce9-8700-4935-aa84-3d6bd28e66b3",
   "metadata": {},
   "outputs": [],
   "source": [
    "anat_series.data.shape"
   ]
  },
  {
   "cell_type": "markdown",
   "id": "413d9097-23f8-40c5-b5f4-f9fbb9a0afd0",
   "metadata": {},
   "source": [
    "Looking at the slices, let's call these dimensions \n",
    "\n",
    "`(y, z, x)`\n",
    "\n",
    "Which means that if we take the middle `x` value, $ \\lfloor \\frac{384}{2} \\rfloor = 192$, we should see a sagittal plane image."
   ]
  },
  {
   "cell_type": "code",
   "execution_count": null,
   "id": "d6bdab0c-a7fb-44ea-b0dd-8d97e1f3fa65",
   "metadata": {},
   "outputs": [],
   "source": [
    "plt.imshow(anat_series[192].data, cmap=\"gray\")"
   ]
  },
  {
   "cell_type": "markdown",
   "id": "16043c46-c2c8-4dd5-91cf-048dc973366b",
   "metadata": {},
   "source": [
    "# Functional BOLD fMRI scan"
   ]
  },
  {
   "cell_type": "markdown",
   "id": "92007861-e1c2-4a20-807e-84dc65fb4e2d",
   "metadata": {},
   "source": [
    "Let's now open some BOLD scans."
   ]
  },
  {
   "cell_type": "markdown",
   "id": "628ef90c-6ea3-4073-a4c9-0e448c2b73e8",
   "metadata": {},
   "source": [
    "`dicom_parser` demands reading only `.dcm` or `.img` files and the data sample in [datalad/example-dicom-functional](https://github.com/datalad/example-dicom-functional) stores the files without an extension. There might be a better way of doing this, but it got the job done. (Equivalent of shell  `for x in *; do ln -s $x $x.dcm; done` in that directory."
   ]
  },
  {
   "cell_type": "code",
   "execution_count": null,
   "id": "653f5cd4-7a20-485d-b33a-eb9606daf828",
   "metadata": {},
   "outputs": [],
   "source": [
    "import glob\n",
    "\n",
    "if glob.glob(\"../testing/example-dicom-functional/dicoms/*.dcm\") == []:\n",
    "    for f in glob.glob(\"../testing/example-dicom-functional/dicoms/*\"):\n",
    "        os.link(f, f+\".dcm\")"
   ]
  },
  {
   "cell_type": "code",
   "execution_count": null,
   "id": "195074a9-5980-4ff3-a9c0-85d6ae20a1a1",
   "metadata": {},
   "outputs": [],
   "source": [
    "bold_series = Series('../testing/example-dicom-functional/dicoms')\n"
   ]
  },
  {
   "cell_type": "code",
   "execution_count": null,
   "id": "b1902b20-760f-439d-b095-205cb1aea339",
   "metadata": {},
   "outputs": [],
   "source": [
    "bold_series.data.shape"
   ]
  },
  {
   "cell_type": "code",
   "execution_count": null,
   "id": "92ecbd71-e2f8-48b4-9fae-5e56418e19b3",
   "metadata": {},
   "outputs": [],
   "source": [
    "len(bold_series)"
   ]
  },
  {
   "cell_type": "markdown",
   "id": "8cb33cce-618a-4e01-84e2-2b594d786ad5",
   "metadata": {},
   "source": [
    "This isn't great. Luckily the README for the data tells us \n",
    ">   A full single run of a block design visual localizer experiment with\n",
    "  six images categories, where each category appeared in two blocks.\n",
    "  156 volumes.\n",
    "\n"
   ]
  },
  {
   "cell_type": "code",
   "execution_count": null,
   "id": "7694542f-437e-4f93-bf48-1cc1671c4ca7",
   "metadata": {},
   "outputs": [],
   "source": [
    "len(bold_series) / 156"
   ]
  },
  {
   "cell_type": "code",
   "execution_count": null,
   "id": "64299627-acfc-45b9-acc1-fee530aac076",
   "metadata": {},
   "outputs": [],
   "source": [
    "data = bold_series.data"
   ]
  },
  {
   "cell_type": "code",
   "execution_count": null,
   "id": "0db06c7a-4fa0-401e-95c9-b694ce8e3782",
   "metadata": {},
   "outputs": [],
   "source": [
    "data.shape = (80, 80, 35, 156)"
   ]
  },
  {
   "cell_type": "markdown",
   "id": "c1f36600-3aaa-4acb-80dd-a32763e4c0ce",
   "metadata": {},
   "source": [
    "So what we probably have is the following order of dimensions\n",
    "\n",
    "```\n",
    "data.shape = (80, 80, 35, 156)\n",
    "            #( x,  y,  z, time)\n",
    "```"
   ]
  },
  {
   "cell_type": "markdown",
   "id": "8bd2c4a5-9553-480f-994b-369e6017e171",
   "metadata": {},
   "source": [
    "### Axial plane\n",
    "Let's visually verify that if we select the middle `z` value ($ \\lfloor \\frac{35}{2} \\rfloor = 17 $), and average over all timepoints, what we end up is an average axial plane image. The code in the next cell is the following:\n",
    "\n",
    "```\n",
    "    data[:, :, 17, :].mean(axis=-1)\n",
    "```\n",
    "\n",
    "We take our 4D volume of data where we fix `z=17`, leaving us with, in order,  `x, y, time` varying 3D data, and collapse across the last dimension, giving us the time average `x,y` varying 2D data that we plot as image.\n",
    "\n",
    "* If you want to skip ahead, compare this calculation with how we can compute the same [average axial plane using `xarray`](#Axial-plane,-revisited) in a later section of this document (or use [this same link](#Axial-plane,-revisited) to go back if you've returned from that section)."
   ]
  },
  {
   "cell_type": "code",
   "execution_count": null,
   "id": "42efc1fb-2ad7-40d8-99f2-313fcd3780d9",
   "metadata": {},
   "outputs": [],
   "source": [
    "plt.imshow(\n",
    "    data[:, :, 17, :].mean(axis=-1),\n",
    "    cmap=\"gray\"\n",
    ")"
   ]
  },
  {
   "cell_type": "code",
   "execution_count": null,
   "id": "da803063-d33e-453d-9d6d-f01df52d0d7b",
   "metadata": {},
   "outputs": [],
   "source": [
    "from ipywidgets import interact\n",
    "\n",
    "@interact(time=(0,data.shape[-1]-1), z=(0,data.shape[-2]-1))\n",
    "def show_slice(time, z):\n",
    "    # note how we transpose data to ax\n",
    "    return plt.imshow(data[:, :, z, time], cmap=\"gray\")"
   ]
  },
  {
   "cell_type": "markdown",
   "id": "e760d5f6-aad0-48c2-8c76-177668d72a22",
   "metadata": {},
   "source": [
    "# Incrementally better with `xarray`\n",
    "\n",
    "Let's work our way up to a more analysis-friendly container. The [`xarray` overview section](https://docs.xarray.dev/en/stable/getting-started-guide/why-xarray.html) starts with the following:\n",
    "\n",
    "> Xarray introduces labels in the form of dimensions, coordinates and attributes on top of raw NumPy-like multidimensional arrays, which allows for a more intuitive, more concise, and less error-prone developer experience.\n",
    "\n",
    "Let's start by giving our BOLD data array some appropriate dimensions labels."
   ]
  },
  {
   "cell_type": "code",
   "execution_count": null,
   "id": "5f9a7c67-4927-489e-9e2f-15f27a1a1a2f",
   "metadata": {},
   "outputs": [],
   "source": [
    "import xarray as xr\n",
    "da = xr.DataArray(data, dims=[\"x\", \"y\", \"z\", \"time\"])\n",
    "da"
   ]
  },
  {
   "cell_type": "markdown",
   "id": "ff1c4ffb-fd02-4620-8820-23c4729ea39d",
   "metadata": {},
   "source": [
    "You'll note that the top of the previous cell includes not only the dimensions, but also the number of steps in that dimension. Here it is again: \n",
    "\n",
    "> `xarray.DataArray`  (x: 80, y: 80, z: 35, time: 156)"
   ]
  },
  {
   "cell_type": "code",
   "execution_count": null,
   "id": "cb0b199e-1855-43ef-9438-58142575207d",
   "metadata": {},
   "outputs": [],
   "source": [
    "da.data.shape"
   ]
  },
  {
   "cell_type": "code",
   "execution_count": null,
   "id": "93a29257-e176-4b09-a0c9-a2fafd9e515b",
   "metadata": {},
   "outputs": [],
   "source": [
    "da.dims"
   ]
  },
  {
   "cell_type": "markdown",
   "id": "0b383718-ac08-47a2-a785-4d81ce903ac9",
   "metadata": {},
   "source": [
    "### Axial plane, revisited\n",
    "\n",
    "Just with this small change, we can now express what previous required keeping track of the order of dimensions for this particular dataset, to something we can express without keeping that in our heads.\n",
    "\n",
    "Recall that in the [original average axial plane](#Axial-plane) we figured out that the middle value of `z` is 17. Our new code for the same calculation is the following:\n",
    "\n",
    "```\n",
    "    da[dict(z=17)].sum(dim='time')\n",
    "```\n",
    "\n",
    "For dimensions with integer values, `xarray`'s `DataArray` can be indexed with a dictionary, so once we have labeled the dimensions, we can say that we want to select the 3D volume where `z=17` and take the average over time.\n",
    "\n",
    "There's also another way, the `.isel` method allows us to select along a named dimension by index:\n",
    "\n",
    "```\n",
    "    da.isel(z=17).sum(dim='time')\n",
    "```"
   ]
  },
  {
   "cell_type": "code",
   "execution_count": null,
   "id": "3a534feb-08d1-4a67-8622-df85f9f98119",
   "metadata": {},
   "outputs": [],
   "source": [
    "plt.imshow(\n",
    "    da[dict(z=17)].mean(dim='time'),\n",
    "    # da.isel(z=17).mean(dim='time'), ## same as line above\n",
    "    cmap='gray'\n",
    ")"
   ]
  },
  {
   "cell_type": "markdown",
   "id": "4e547a8c-78f7-4dd1-b1d3-ece0f09ddb16",
   "metadata": {},
   "source": [
    "And if we had to calculate the middle point along the `z` dimension, we could have done like this:\n"
   ]
  },
  {
   "cell_type": "code",
   "execution_count": null,
   "id": "250ac89e-21e5-4779-8189-f39cea509be0",
   "metadata": {},
   "outputs": [],
   "source": [
    "len(da.z) // 2"
   ]
  },
  {
   "cell_type": "markdown",
   "id": "8bdad77d-aa1d-4c4b-8890-a46957f67ed1",
   "metadata": {},
   "source": [
    "### Coordinates for time"
   ]
  },
  {
   "cell_type": "code",
   "execution_count": null,
   "id": "3b5ee138-c24c-468d-89ab-ed511576ab48",
   "metadata": {},
   "outputs": [],
   "source": [
    "TR = bold_series[0].header.get(\"RepetitionTime\")\n",
    "TR"
   ]
  },
  {
   "cell_type": "markdown",
   "id": "672605c2-8d0c-4f02-842a-9e3568d20e6a",
   "metadata": {},
   "source": [
    "Here, we've got `2000` milliseconds betweeen each slice, let's have our data reflect this"
   ]
  },
  {
   "cell_type": "code",
   "execution_count": null,
   "id": "256bb184-2cb1-4d12-9cfb-78dd5e867d66",
   "metadata": {
    "scrolled": true
   },
   "outputs": [],
   "source": [
    "import numpy as np\n",
    "da2 = xr.DataArray(data,\n",
    "    dims=[\"x\", \"y\", \"z\", \"time\"], \n",
    "    coords={\"time\": xr.DataArray(np.arange(0, (data.shape[-1]) * TR, TR), dims=[\"time\"], attrs={\"units\":\"ms\"})})\n",
    "da2"
   ]
  },
  {
   "cell_type": "markdown",
   "id": "098852e8-0c6f-491e-a7ab-f1247340af6b",
   "metadata": {},
   "source": [
    "Ok, so now that we have `time` coordinates in our data, we can actually have a time-aware slider."
   ]
  },
  {
   "cell_type": "code",
   "execution_count": null,
   "id": "e8495efb-c883-47a2-b1fc-6790a716897f",
   "metadata": {},
   "outputs": [],
   "source": [
    "da3.time[-1]"
   ]
  },
  {
   "cell_type": "code",
   "execution_count": null,
   "id": "42a2c9c3-9e50-44a1-8bb2-b205a319a1e7",
   "metadata": {},
   "outputs": [],
   "source": [
    "from ipywidgets import interact\n",
    "\n",
    "@interact(time=(0, da2.time.data[-1]/1000, da2.time.data[1]/1000), z=(0, da2.z.data[-1]))\n",
    "def show_slice(time, z):\n",
    "    plt.imshow(\n",
    "        da2.sel(time=xr.DataArray([time*1000], dims=['time']), method=\"nearest\").isel(z=z).data,\n",
    "        cmap='gray'\n",
    ")"
   ]
  },
  {
   "cell_type": "code",
   "execution_count": null,
   "id": "6778800e-7422-457b-808d-3d256d7e7423",
   "metadata": {},
   "outputs": [],
   "source": [
    "da3 = xr.DataArray(data,\n",
    "    dims=[\"x\", \"y\", \"z\", \"time\"], \n",
    "    coords={\n",
    "        \"x\": range(0, data.shape[0]),\n",
    "        \"y\": range(0, data.shape[1]),\n",
    "        \"z\": range(0, data.shape[2]),\n",
    "        \"time\": xr.DataArray(np.arange(0, (data.shape[-1]) * TR, TR), dims=[\"time\"])})\n",
    "da3"
   ]
  },
  {
   "cell_type": "markdown",
   "id": "7f993015-4aba-4fd2-9206-14bf0d323e0d",
   "metadata": {},
   "source": [
    "We don't have to specify `coords` as a dictionary, so long as we preserve the same order that the dimensions were specified in."
   ]
  },
  {
   "cell_type": "code",
   "execution_count": null,
   "id": "9cdb56f5-6169-4e69-87fe-de2afbbff500",
   "metadata": {},
   "outputs": [],
   "source": [
    "da4 = xr.DataArray(data, dims=[\"x\", \"y\", \"z\", \"time\"], \n",
    "             coords=[range(0, data.shape[0]),\n",
    "                     range(0, data.shape[1]),\n",
    "                     range(0, data.shape[2]),\n",
    "                     xr.DataArray(np.arange(0, (data.shape[-1]) * TR, TR), dims=[\"time\"])\n",
    "])\n",
    "da3.equals(da4)"
   ]
  },
  {
   "cell_type": "markdown",
   "id": "aa083455-a688-4277-94cb-4a74c78463d4",
   "metadata": {},
   "source": [
    "### Storing header information in attrs"
   ]
  },
  {
   "cell_type": "code",
   "execution_count": null,
   "id": "94d6aa66-2c0f-4e41-ae6c-2cb0a8ade00a",
   "metadata": {},
   "outputs": [],
   "source": [
    "da3.attrs"
   ]
  },
  {
   "cell_type": "markdown",
   "id": "142258a2-50ef-444b-9e29-eeddd24f0c4b",
   "metadata": {},
   "source": [
    "TODO:  I'm just copying all headers here, assuming they're the same, but there are probably some that are different across slices."
   ]
  },
  {
   "cell_type": "code",
   "execution_count": null,
   "id": "319309cd-fa2d-4572-b696-a3e20f043060",
   "metadata": {},
   "outputs": [],
   "source": [
    "for k in bold_series[0].header.keys:\n",
    "    da3.attrs[k] = bold_series[0].header.get(k)"
   ]
  },
  {
   "cell_type": "code",
   "execution_count": null,
   "id": "6058c0bf-f882-45a6-8d50-e5b644ac8588",
   "metadata": {},
   "outputs": [],
   "source": [
    "da3.attrs"
   ]
  },
  {
   "cell_type": "code",
   "execution_count": null,
   "id": "8513a5a6-1036-49fd-ac8f-a7e166b29d18",
   "metadata": {},
   "outputs": [],
   "source": [
    "### Reading and writing zarr"
   ]
  },
  {
   "cell_type": "code",
   "execution_count": null,
   "id": "883afe6a-7114-479d-a8a5-a0e9d8e70945",
   "metadata": {},
   "outputs": [],
   "source": [
    "!rm -fr our_zarr*"
   ]
  },
  {
   "cell_type": "code",
   "execution_count": null,
   "id": "4986feab-16e8-4e38-b77f-28f04be86d22",
   "metadata": {},
   "outputs": [],
   "source": [
    "orig = xr.DataArray(data, dims=[\"x\", \"y\", \"z\", \"time\"], \n",
    "             coords=[range(0, data.shape[0]),\n",
    "                     range(0, data.shape[1]),\n",
    "                     range(0, data.shape[2]),\n",
    "                    xr.DataArray(np.arange(0, (data.shape[-1]) * 3.3, 3.3))\n",
    "])"
   ]
  },
  {
   "cell_type": "code",
   "execution_count": null,
   "id": "db2deef0-9971-463b-945d-f4fb927f719d",
   "metadata": {},
   "outputs": [],
   "source": [
    "z = orig.to_zarr(\"./our_zarr_test\")"
   ]
  },
  {
   "cell_type": "code",
   "execution_count": null,
   "id": "de06b268-b6fe-438e-8627-c1400ac57ebd",
   "metadata": {},
   "outputs": [],
   "source": [
    "!ls our_zarr_test/"
   ]
  },
  {
   "cell_type": "code",
   "execution_count": null,
   "id": "9006abf0-9fa7-450d-a0c2-153190da6120",
   "metadata": {},
   "outputs": [],
   "source": [
    "orig.name = \"yo\""
   ]
  },
  {
   "cell_type": "code",
   "execution_count": null,
   "id": "c6d5dff4-eae3-4d9c-b8f4-db4e811fb469",
   "metadata": {},
   "outputs": [],
   "source": [
    "z = orig.to_zarr(\"./our_zarr_test_2\")"
   ]
  },
  {
   "cell_type": "code",
   "execution_count": null,
   "id": "772628d3-18e5-488b-89df-81fcfa08f118",
   "metadata": {},
   "outputs": [],
   "source": [
    "ls our_zarr_test_2/"
   ]
  },
  {
   "cell_type": "code",
   "execution_count": null,
   "id": "f7f17243-8ac2-41d5-9ec8-5cf7fc05f899",
   "metadata": {},
   "outputs": [],
   "source": [
    "ls our_zarr_test_2/yo"
   ]
  },
  {
   "cell_type": "code",
   "execution_count": null,
   "id": "3300eb16-57a2-4c22-a441-d82326c676c3",
   "metadata": {},
   "outputs": [],
   "source": [
    "## restart kernel after uninstalling dask"
   ]
  },
  {
   "cell_type": "code",
   "execution_count": null,
   "id": "a051e11c-e3f8-447b-a692-4411b973147f",
   "metadata": {},
   "outputs": [],
   "source": [
    "%pip -q uninstall -y dask"
   ]
  },
  {
   "cell_type": "code",
   "execution_count": null,
   "id": "5433d74d-db67-4dc1-bf46-f9fd0e50a9dd",
   "metadata": {},
   "outputs": [],
   "source": [
    "import xarray as xr"
   ]
  },
  {
   "cell_type": "code",
   "execution_count": null,
   "id": "485fe56d-ca57-4e28-9936-7e088b665b59",
   "metadata": {},
   "outputs": [],
   "source": [
    "xr.open_zarr(\"./our_zarr_test_2\")"
   ]
  },
  {
   "cell_type": "code",
   "execution_count": null,
   "id": "6323130d-2429-41bd-8d2c-66986274c934",
   "metadata": {},
   "outputs": [],
   "source": [
    "## restart kernel after installing dask"
   ]
  },
  {
   "cell_type": "code",
   "execution_count": null,
   "id": "929c39db-8225-4733-b411-12cb6eb65dea",
   "metadata": {
    "scrolled": true
   },
   "outputs": [],
   "source": [
    "%pip -q install dask"
   ]
  },
  {
   "cell_type": "code",
   "execution_count": null,
   "id": "b3053c87-1c73-4605-9eed-f282a047103e",
   "metadata": {},
   "outputs": [],
   "source": [
    "import xarray as xr\n",
    "xr.open_zarr(\"./our_zarr_test_2\")"
   ]
  },
  {
   "cell_type": "markdown",
   "id": "33ec4e0c-2cdf-4e65-b48b-da1fd3eb277d",
   "metadata": {},
   "source": [
    "Note: if `dask` is installed,  data gets read in as a `dask.array`"
   ]
  },
  {
   "cell_type": "code",
   "execution_count": null,
   "id": "cf41503d-55dd-4bc6-a9fe-11fdefca7228",
   "metadata": {},
   "outputs": [],
   "source": []
  }
 ],
 "metadata": {
  "kernelspec": {
   "display_name": "Python 3 (ipykernel)",
   "language": "python",
   "name": "python3"
  },
  "language_info": {
   "codemirror_mode": {
    "name": "ipython",
    "version": 3
   },
   "file_extension": ".py",
   "mimetype": "text/x-python",
   "name": "python",
   "nbconvert_exporter": "python",
   "pygments_lexer": "ipython3",
   "version": "3.11.0"
  }
 },
 "nbformat": 4,
 "nbformat_minor": 5
}
